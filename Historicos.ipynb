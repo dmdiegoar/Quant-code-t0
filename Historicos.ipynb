{
  "nbformat": 4,
  "nbformat_minor": 0,
  "metadata": {
    "colab": {
      "provenance": [],
      "authorship_tag": "ABX9TyM6rBq6MmtbBDBKbJOIpeVz",
      "include_colab_link": true
    },
    "kernelspec": {
      "name": "python3",
      "display_name": "Python 3"
    },
    "language_info": {
      "name": "python"
    }
  },
  "cells": [
    {
      "cell_type": "markdown",
      "metadata": {
        "id": "view-in-github",
        "colab_type": "text"
      },
      "source": [
        "<a href=\"https://colab.research.google.com/github/dmdiegoar/Quant-code-t0/blob/main/Historicos.ipynb\" target=\"_parent\"><img src=\"https://colab.research.google.com/assets/colab-badge.svg\" alt=\"Open In Colab\"/></a>"
      ]
    },
    {
      "cell_type": "code",
      "execution_count": null,
      "metadata": {
        "colab": {
          "base_uri": "https://localhost:8080/"
        },
        "id": "iDXrywYoeLvI",
        "outputId": "23e699b5-92c6-45f2-a250-930955896e76"
      },
      "outputs": [
        {
          "output_type": "stream",
          "name": "stdout",
          "text": [
            "                           symbol    size   price                 datetime  \\\n",
            "686917  MERV - XMEV - GGAL - 24hs    49.0  8800.0  2025-01-07 18:28:39.000   \n",
            "686918  MERV - XMEV - GGAL - 24hs    52.0  8800.0  2025-01-07 18:28:44.000   \n",
            "686919  MERV - XMEV - GGAL - 24hs    58.0  8800.0  2025-01-07 18:29:33.000   \n",
            "686920  MERV - XMEV - GGAL - 24hs    70.0  8800.0  2025-01-07 18:29:47.000   \n",
            "686921  MERV - XMEV - GGAL - 24hs    76.0  8800.0  2025-01-07 18:28:40.000   \n",
            "686922  MERV - XMEV - GGAL - 24hs   100.0  8800.0  2025-01-07 18:28:39.000   \n",
            "686923  MERV - XMEV - GGAL - 24hs   109.0  8800.0  2025-01-07 18:28:39.000   \n",
            "686924  MERV - XMEV - GGAL - 24hs   122.0  8800.0  2025-01-07 18:28:39.000   \n",
            "686925  MERV - XMEV - GGAL - 24hs   160.0  8800.0  2025-01-07 18:28:44.000   \n",
            "686926  MERV - XMEV - GGAL - 24hs   262.0  8800.0  2025-01-07 18:28:39.000   \n",
            "686927  MERV - XMEV - GGAL - 24hs   408.0  8800.0  2025-01-07 18:29:58.000   \n",
            "686928  MERV - XMEV - GGAL - 24hs   819.0  8800.0  2025-01-07 18:29:21.000   \n",
            "686929  MERV - XMEV - GGAL - 24hs  1071.0  8800.0  2025-01-07 18:29:42.000   \n",
            "686930  MERV - XMEV - GGAL - 24hs  3000.0  8800.0  2025-01-07 18:28:44.000   \n",
            "686931  MERV - XMEV - GGAL - 24hs  4765.0  8800.0  2025-01-07 18:28:44.000   \n",
            "\n",
            "                servertime  \n",
            "686917 2025-01-07 15:28:39  \n",
            "686918 2025-01-07 15:28:44  \n",
            "686919 2025-01-07 15:29:33  \n",
            "686920 2025-01-07 15:29:47  \n",
            "686921 2025-01-07 15:28:40  \n",
            "686922 2025-01-07 15:28:39  \n",
            "686923 2025-01-07 15:28:39  \n",
            "686924 2025-01-07 15:28:39  \n",
            "686925 2025-01-07 15:28:44  \n",
            "686926 2025-01-07 15:28:39  \n",
            "686927 2025-01-07 15:29:58  \n",
            "686928 2025-01-07 15:29:21  \n",
            "686929 2025-01-07 15:29:42  \n",
            "686930 2025-01-07 15:28:44  \n",
            "686931 2025-01-07 15:28:44  \n"
          ]
        }
      ],
      "source": [
        "\n",
        "from urllib.parse import urlencode\n",
        "import time, datetime\n",
        "import urllib3  # pip install urllib3\n",
        "import requests#pip install requests\n",
        "import pandas#pip install pandas\n",
        "import json\n",
        "\n",
        "\"\"\"\n",
        "urllib3.disable_warnings(urllib3.exceptions.InsecureRequestWarning)\n",
        "######################################################################################################################\n",
        "#OPEN BYMADATA - HISTORICOS DIARIOS - 'GD30 CDO' para el CI - GD30 48HS\n",
        "######################################################################################################################\n",
        "srv = 'open.bymadata.com.ar'\n",
        "url = f'https://{srv}/vanoms-be-core/rest/api/bymadata/free/chart/historical-series/history'\n",
        "prm = {'symbol' : 'GD30 48HS', 'resolution' : 'S', 'from' : '946695600', 'to' : '1893466800'}\n",
        "\n",
        "url = f'{url}?{urlencode(prm)}'\n",
        "\n",
        "headers = {\"User-Agent\" : \"Mozilla/5.0 (Windows NT 10.0; Win64; x64; rv:102.0) Gecko/20100101 Firefox/102.0\"}\n",
        "\n",
        "response = requests.get(url = url, headers = headers, verify = False)\n",
        "status = response.status_code\n",
        "if status != 200:\n",
        "  print(\"status != 200\", status)\n",
        "  exit()\n",
        "\n",
        "df =  pandas.read_json(response.text)\n",
        "df['t'] = pandas.to_datetime(df['t'], unit='s')\n",
        "print(df)\n",
        "\n",
        "\n",
        "time.sleep(30)\n",
        "exit()\n",
        "\"\"\"\n",
        "#######################################################################################################################\n",
        "#API ROFEX - HISTORICOS INTRADIARIOS - PARA CONTADO INMEDIATO FALTAN DATOS DESDE 2022-01-07 HASTA EL PRESENTE\n",
        "#######################################################################################################################\n",
        "s = requests.Session()\n",
        "\n",
        "username = \"uuu\"\n",
        "password = \"+ppp\"\n",
        "\n",
        "\n",
        "headers = {'X-Username': username, 'X-Password': password}\n",
        "\n",
        "response = s.post(url=\"https://api.eco.xoms.com.ar/auth/getToken\", headers=headers)\n",
        "\n",
        "if not response.ok:\n",
        "    print(\"Authentication fails. Incorrect User or Password\")\n",
        "    exit()\n",
        "\n",
        "token = response.headers['X-Auth-Token']\n",
        "\n",
        "#print(token)\n",
        "\n",
        "headers = {'X-Auth-Token' : token}\n",
        "\n",
        "#data = {'marketId': 'MERV', 'symbol' : 'MERV - XMEV - COME - 24hs', 'date' : '2003-02-17', 'dateTo' : '2013-02-17', 'external' : '1'}\n",
        "data = {'marketId': 'MERV', 'symbol' : 'MERV - XMEV - GGAL - 24hs', 'date' : '2025-01-03', 'dateTo' : '2025-04-17', 'external' : '1'}\n",
        "#data = {'marketId': 'MERV', 'symbol' : 'MERV - XMEV - AL30 - 48hs', 'date' : '2023-02-17', 'dateTo' : '2023-02-17', 'external' : '1'}\n",
        "\n",
        "response = s.get(url=\"https://api.eco.xoms.com.ar/rest/data/getTrades\", headers=headers, params=data)\n",
        "\n",
        "df = pandas.DataFrame(json.loads(response.text)['trades'])\n",
        "\n",
        "df = df[['symbol', 'size', 'price', 'datetime', 'servertime']]\n",
        "\n",
        "df.drop('datetime', axis=1, inplace=True)\n",
        "\n",
        "df['servertime'] = df['servertime'].subtract(3 * 3600 * 1000)\n",
        "\n",
        "df['servertime'] = pandas.to_datetime(df['servertime'], unit='ms')\n",
        "\n",
        "print(df.tail(15))\n",
        "\n",
        "#df.to_csv('AL30.csv', index = False)"
      ]
    }
  ]
}